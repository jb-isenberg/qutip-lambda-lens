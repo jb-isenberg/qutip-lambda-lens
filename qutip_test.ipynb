{
 "cells": [
  {
   "cell_type": "code",
   "execution_count": null,
   "metadata": {},
   "outputs": [],
   "source": [
    "!pip install qutip"
   ]
  },
  {
   "cell_type": "code",
   "execution_count": null,
   "metadata": {},
   "outputs": [],
   "source": [
    "from qutip import *\n",
    "import numpy as np\n",
    "import matplotlib.pyplot as plt\n",
    "\n",
    "N = 20\n",
    "psi0 = basis(N, 0)\n",
    "a = destroy(N)\n",
    "H = a.dag() * a\n",
    "tlist = np.linspace(0, 10, 200)\n",
    "result = mesolve(H, psi0, tlist, [], [])\n",
    "expect_vals = expect(H, result.states)\n",
    "\n",
    "plt.plot(tlist, expect_vals)\n",
    "plt.title(\"Wave Propagation Analog\")\n",
    "plt.xlabel(\"Time\")\n",
    "plt.ylabel(\"⟨Energy⟩\")\n",
    "plt.grid(True)\n",
    "plt.show()"
   ]
  }
 ],
 "metadata": {
  "kernelspec": {
   "display_name": "Python 3",
   "language": "python",
   "name": "python3"
  },
  "language_info": {
   "name": "python",
   "version": ""
  }
 },
 "nbformat": 4,
 "nbformat_minor": 2
}
